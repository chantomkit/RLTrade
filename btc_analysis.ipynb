{
 "cells": [
  {
   "cell_type": "code",
   "execution_count": null,
   "metadata": {},
   "outputs": [],
   "source": [
    "import math\n",
    "import random\n",
    "\n",
    "from gym_trading_env.downloader import download\n",
    "import pandas_ta as ta"
   ]
  },
  {
   "cell_type": "code",
   "execution_count": null,
   "metadata": {},
   "outputs": [],
   "source": [
    "# Download BTC/USDT historical data from Binance and stores it to directory ./data/binance-BTCUSDT-1h.pkl\n",
    "# download(exchange_names = [\"binance\"],\n",
    "#     symbols= [\"BTC/USDT\"],\n",
    "#     timeframe= \"1d\",\n",
    "#     dir = \"data\",\n",
    "#     since= datetime.datetime(year= 2019, month= 12, day=31),\n",
    "#     until= datetime.datetime(year= 2024, month= 1, day=1)\n",
    "# )\n",
    "# Import your fresh data\n",
    "# df = pd.read_pickle(\"./data/binance-BTCUSDT-1d.pkl\")\n",
    "# df[\"close\"].plot(figsize=(15, 5))\n",
    "\n",
    "# MyStrategy = ta.Strategy(\n",
    "#     name=\"OHLC4\",\n",
    "#     ta=[\n",
    "#         {\"kind\": \"ohlc4\"},\n",
    "#     ]\n",
    "# )\n",
    "\n",
    "# CustomStrategy = ta.Strategy(\n",
    "#     name=\"Momo and Volatility\",\n",
    "#     description=\"SMA 50,200, BBANDS, RSI, MACD and Volume SMA 20\",\n",
    "#     ta=[\n",
    "#         {\"kind\": \"sma\", \"length\": 50},\n",
    "#         {\"kind\": \"sma\", \"length\": 200},\n",
    "#         {\"kind\": \"bbands\", \"length\": 20},\n",
    "#         {\"kind\": \"rsi\"},\n",
    "#         {\"kind\": \"macd\", \"fast\": 8, \"slow\": 21},\n",
    "#         {\"kind\": \"sma\", \"close\": \"volume\", \"length\": 20, \"prefix\": \"VOLUME\"},\n",
    "#     ]\n",
    "# )\n",
    "\n",
    "# df.ta.strategy(MyStrategy)\n",
    "# df.dropna(inplace=True)"
   ]
  }
 ],
 "metadata": {
  "kernelspec": {
   "display_name": "env_full_py3_9",
   "language": "python",
   "name": "python3"
  },
  "language_info": {
   "name": "python",
   "version": "3.9.18"
  }
 },
 "nbformat": 4,
 "nbformat_minor": 2
}
